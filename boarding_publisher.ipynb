{
 "cells": [
  {
   "cell_type": "code",
   "execution_count": 3,
   "metadata": {},
   "outputs": [],
   "source": [
    "import paho.mqtt.client as mqtt\n",
    "import time\n",
    "from datetime import datetime"
   ]
  },
  {
   "cell_type": "code",
   "execution_count": 5,
   "metadata": {},
   "outputs": [
    {
     "name": "stdout",
     "output_type": "stream",
     "text": [
      "creating new publisher\n",
      "publisher P1 successfully create\n",
      "connecting to broker\n",
      "connect with : 192.168.1.22 12345\n",
      "publishing topic\n",
      "sucess publish topic\n"
     ]
    }
   ],
   "source": [
    "# mendefinisikan broker serta port yang akan digunakan\n",
    "broker = ('192.168.43.3')\n",
    "port = 12345\n",
    "\n",
    "# membuat publisher dengan nama P1\n",
    "print(\"creating new publisher\")\n",
    "publisher = (mqtt.Client('P1'))\n",
    "print(\"publisher P1 successfully create\")\n",
    "\n",
    "# melakukan koneksi ke broker dengan port\n",
    "print(\"connecting to broker\")\n",
    "publisher.connect(broker,port)\n",
    "print(\"connect with :\",broker,port)\n",
    "\n",
    "# loop untuk dimulai\n",
    "publisher.loop_start()\n",
    "\n",
    "# memulai mempublish topic\n",
    "print(\"publishing topic\")\n",
    "for i in range(20):\n",
    "    time.sleep(1)\n",
    "    publisher.publish('Boarding','Waktu '+datetime.now().strftime('%Y, %m, %d, %H:%M:%S'))\n",
    "# jika sudah mempublish 20 topic\n",
    "print(\"sucess publish topic\")\n",
    "publisher.loop_stop()"
   ]
  },
  {
   "cell_type": "code",
   "execution_count": null,
   "metadata": {},
   "outputs": [],
   "source": []
  },
  {
   "cell_type": "code",
   "execution_count": null,
   "metadata": {},
   "outputs": [],
   "source": []
  },
  {
   "cell_type": "code",
   "execution_count": null,
   "metadata": {},
   "outputs": [],
   "source": []
  }
 ],
 "metadata": {
  "kernelspec": {
   "display_name": "Python 3",
   "language": "python",
   "name": "python3"
  },
  "language_info": {
   "codemirror_mode": {
    "name": "ipython",
    "version": 3
   },
   "file_extension": ".py",
   "mimetype": "text/x-python",
   "name": "python",
   "nbconvert_exporter": "python",
   "pygments_lexer": "ipython3",
   "version": "3.7.3"
  }
 },
 "nbformat": 4,
 "nbformat_minor": 2
}
