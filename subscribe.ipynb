{
 "cells": [
  {
   "cell_type": "code",
   "execution_count": 1,
   "metadata": {},
   "outputs": [],
   "source": [
    "import paho.mqtt.client as mqtt\n",
    "import time\n",
    "import re"
   ]
  },
  {
   "cell_type": "code",
   "execution_count": 2,
   "metadata": {},
   "outputs": [],
   "source": [
    "# fungsi untuk mengecek topic\n",
    "def cek_message(client,userdata, message):\n",
    "    #  decode message menjadi string\n",
    "    dMessage = str(message.payload.decode(\"utf-8\"))\n",
    "    print(dMessage)\n",
    "    # menyimpat pesan yang di decode bila terdapat waktu\n",
    "    boarding = re.search('Waktu',dMessage)\n",
    "    # jika boarding maka akan di simpan ke boarding.txt\n",
    "    if boarding:\n",
    "        file = open('Boarding.txt','a')\n",
    "        file.write(_message)\n",
    "        file.close()\n",
    "    else:\n",
    "        file = open('Lokasi.txt','a')\n",
    "        file.write(_message)\n",
    "        file.close()"
   ]
  },
  {
   "cell_type": "code",
   "execution_count": null,
   "metadata": {},
   "outputs": [
    {
     "name": "stdout",
     "output_type": "stream",
     "text": [
      "creating new instance\n",
      "connection to broker\n",
      "subscribing to topic\n",
      "Waktu 2020, 03, 12, 10:39:19\n",
      "Waktu 2020, 03, 12, 10:39:21\n",
      "Waktu 2020, 03, 12, 10:39:23\n",
      "Waktu 2020, 03, 12, 10:39:25\n",
      "Waktu 2020, 03, 12, 10:39:27\n",
      "Waktu 2020, 03, 12, 10:39:29\n",
      "Waktu 2020, 03, 12, 10:39:31\n",
      "Waktu 2020, 03, 12, 10:39:33\n",
      "Waktu 2020, 03, 12, 10:39:35\n",
      "Waktu 2020, 03, 12, 10:39:37\n",
      "Waktu 2020, 03, 12, 10:40:02\n",
      "Waktu 2020, 03, 12, 10:40:05\n",
      "Waktu 2020, 03, 12, 10:40:08\n",
      "Waktu 2020, 03, 12, 10:40:11\n",
      "Waktu 2020, 03, 12, 10:40:14\n",
      "Waktu 2020, 03, 12, 10:40:16\n"
     ]
    }
   ],
   "source": [
    "broker = '192.168.43.3'\n",
    "port = 12345\n",
    "\n",
    "print(\"creating new instance\")\n",
    "subscriber = mqtt.Client('S1')\n",
    "\n",
    "subscriber.on_message = cek_message\n",
    "\n",
    "print(\"connection to broker\")\n",
    "subscriber.connect(broker,port)\n",
    "\n",
    "subscriber.loop_start()\n",
    "\n",
    "print(\"subscribing to topic\")\n",
    "subscriber.subscribe([('Lokasi',2),('Boarding',1)])\n",
    "\n",
    "while True:\n",
    "    time.sleep(1)\n",
    "subscriber.loop_stop()"
   ]
  },
  {
   "cell_type": "code",
   "execution_count": null,
   "metadata": {},
   "outputs": [],
   "source": []
  },
  {
   "cell_type": "code",
   "execution_count": null,
   "metadata": {},
   "outputs": [],
   "source": []
  }
 ],
 "metadata": {
  "kernelspec": {
   "display_name": "Python 3",
   "language": "python",
   "name": "python3"
  },
  "language_info": {
   "codemirror_mode": {
    "name": "ipython",
    "version": 3
   },
   "file_extension": ".py",
   "mimetype": "text/x-python",
   "name": "python",
   "nbconvert_exporter": "python",
   "pygments_lexer": "ipython3",
   "version": "3.7.3"
  }
 },
 "nbformat": 4,
 "nbformat_minor": 2
}
